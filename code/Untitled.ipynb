{
 "cells": [
  {
   "cell_type": "code",
   "execution_count": 3,
   "metadata": {},
   "outputs": [],
   "source": [
    "import pymongo\n",
    "import csv\n",
    "from datetime import datetime\n",
    " \n",
    "#build connection\n",
    "conn = pymongo.MongoClient('127.0.0.1',27017)\n",
    "#connect dataBase\n",
    "mydb = conn.test\n",
    "#get collection\n",
    "tripCollect = mydb.testCollect\n",
    "FILEPATH='../data/test.csv'"
   ]
  },
  {
   "cell_type": "code",
   "execution_count": 14,
   "metadata": {},
   "outputs": [
    {
     "name": "stdout",
     "output_type": "stream",
     "text": [
      "insert 1 data\n",
      "insert 2 data\n",
      "insert 3 data\n",
      "insert 4 data\n",
      "insert 5 data\n",
      "insert 6 data\n",
      "insert 7 data\n",
      "insert 8 data\n",
      "insert 9 data\n",
      "insert 10 data\n",
      "insert 11 data\n",
      "insert 12 data\n",
      "insert 13 data\n",
      "insert 14 data\n",
      "insert 15 data\n",
      "insert 16 data\n",
      "insert 17 data\n",
      "insert 18 data\n",
      "insert 19 data\n",
      "insert 20 data\n",
      "insert 21 data\n",
      "insert 22 data\n",
      "insert 23 data\n",
      "insert 24 data\n",
      "insert 25 data\n",
      "insert 26 data\n",
      "insert 27 data\n",
      "insert 28 data\n",
      "insert 29 data\n",
      "insert 30 data\n",
      "insert 31 data\n",
      "insert 32 data\n",
      "insert 33 data\n",
      "insert 34 data\n",
      "insert 35 data\n",
      "insert 36 data\n",
      "insert 37 data\n",
      "insert 38 data\n",
      "insert 39 data\n",
      "insert 40 data\n",
      "insert 41 data\n",
      "insert 42 data\n",
      "insert 43 data\n",
      "insert 44 data\n",
      "insert 45 data\n",
      "insert 46 data\n",
      "insert 47 data\n",
      "insert 48 data\n",
      "insert 49 data\n"
     ]
    },
    {
     "name": "stderr",
     "output_type": "stream",
     "text": [
      "/usr/local/lib/python3.7/site-packages/ipykernel_launcher.py:22: DeprecationWarning: insert is deprecated. Use insert_one or insert_many instead.\n"
     ]
    }
   ],
   "source": [
    "with open(FILEPATH,'r',encoding='utf-8')as csvfile:\n",
    "    reader=csv.DictReader(csvfile)\n",
    "    counts=0\n",
    "    for each in reader:\n",
    "        each['VendorID']=int(each['VendorID'])\n",
    "        each['tpep_pickup_datetime']=datetime.strptime(each['tpep_pickup_datetime'], '%m/%d/%Y %I:%M:%S %p')\n",
    "        each['tpep_dropoff_datetime']=datetime.strptime(each['tpep_dropoff_datetime'], '%m/%d/%Y %I:%M:%S %p')\n",
    "        each['passenger_count']=int(each['passenger_count'])\n",
    "        each['trip_distance']=float(each['trip_distance'])\n",
    "        each['RatecodeID']=int(each['RatecodeID'])\n",
    "        # each['store_and_fwd_flag']=String(each['store_and_fwd_flag'])\n",
    "        each['PULocationID']=int(each['PULocationID'])\n",
    "        each['DOLocationID']=int(each['DOLocationID'])\n",
    "        each['payment_type']=int(each['payment_type'])\n",
    "        each['fare_amount']=float(each['fare_amount'])\n",
    "        each['extra']=float(each['extra'])\n",
    "        each['mta_tax']=float(each['mta_tax'])\n",
    "        each['tip_amount']=float(each['tip_amount'])\n",
    "        each['tolls_amount']=float(each['tolls_amount'])\n",
    "        each['improvement_surcharge']=float(each['improvement_surcharge'])\n",
    "\n",
    "        tripCollect.insert_one(each)\n",
    "        counts+=1\n",
    "        print('insert '+str(counts)+' data')"
   ]
  },
  {
   "cell_type": "code",
   "execution_count": 19,
   "metadata": {},
   "outputs": [
    {
     "name": "stdout",
     "output_type": "stream",
     "text": [
      "<class 'pymongo.cursor.Cursor'>\n",
      "{'_id': ObjectId('5d9b4483f7125eb6c948176c'), 'VendorID': 2, 'tpep_pickup_datetime': datetime.datetime(2084, 11, 4, 12, 32, 24), 'tpep_dropoff_datetime': datetime.datetime(2084, 11, 4, 12, 47, 41), 'passenger_count': 1, 'trip_distance': 1.34, 'RatecodeID': 1, 'store_and_fwd_flag': 'N', 'PULocationID': 238, 'DOLocationID': 236, 'payment_type': 2, 'fare_amount': 10.0, 'extra': 0.0, 'mta_tax': 0.5, 'tip_amount': 0.0, 'tolls_amount': 0.0, 'improvement_surcharge': 0.3, 'total_amount': '10.8'}\n",
      "{'_id': ObjectId('5d9b4483f7125eb6c948176d'), 'VendorID': 2, 'tpep_pickup_datetime': datetime.datetime(2084, 11, 4, 12, 32, 24), 'tpep_dropoff_datetime': datetime.datetime(2084, 11, 4, 12, 47, 41), 'passenger_count': 1, 'trip_distance': 1.34, 'RatecodeID': 1, 'store_and_fwd_flag': 'N', 'PULocationID': 238, 'DOLocationID': 236, 'payment_type': 2, 'fare_amount': 10.0, 'extra': 0.0, 'mta_tax': 0.5, 'tip_amount': 0.0, 'tolls_amount': 0.0, 'improvement_surcharge': 0.3, 'total_amount': '10.8'}\n",
      "{'_id': ObjectId('5d9b4483f7125eb6c948176e'), 'VendorID': 2, 'tpep_pickup_datetime': datetime.datetime(2084, 11, 4, 12, 25, 53), 'tpep_dropoff_datetime': datetime.datetime(2084, 11, 4, 12, 29), 'passenger_count': 1, 'trip_distance': 0.32, 'RatecodeID': 1, 'store_and_fwd_flag': 'N', 'PULocationID': 238, 'DOLocationID': 238, 'payment_type': 2, 'fare_amount': 4.0, 'extra': 0.0, 'mta_tax': 0.5, 'tip_amount': 0.0, 'tolls_amount': 0.0, 'improvement_surcharge': 0.3, 'total_amount': '4.8'}\n",
      "{'_id': ObjectId('5d9b4483f7125eb6c948176f'), 'VendorID': 2, 'tpep_pickup_datetime': datetime.datetime(2084, 11, 4, 12, 25, 53), 'tpep_dropoff_datetime': datetime.datetime(2084, 11, 4, 12, 29), 'passenger_count': 1, 'trip_distance': 0.32, 'RatecodeID': 1, 'store_and_fwd_flag': 'N', 'PULocationID': 238, 'DOLocationID': 238, 'payment_type': 2, 'fare_amount': 4.0, 'extra': 0.0, 'mta_tax': 0.5, 'tip_amount': 0.0, 'tolls_amount': 0.0, 'improvement_surcharge': 0.3, 'total_amount': '4.8'}\n",
      "{'_id': ObjectId('5d9b4483f7125eb6c9481770'), 'VendorID': 2, 'tpep_pickup_datetime': datetime.datetime(2084, 11, 4, 12, 8, 33), 'tpep_dropoff_datetime': datetime.datetime(2084, 11, 4, 12, 22, 24), 'passenger_count': 1, 'trip_distance': 1.85, 'RatecodeID': 1, 'store_and_fwd_flag': 'N', 'PULocationID': 236, 'DOLocationID': 238, 'payment_type': 2, 'fare_amount': 10.0, 'extra': 0.0, 'mta_tax': 0.5, 'tip_amount': 0.0, 'tolls_amount': 0.0, 'improvement_surcharge': 0.3, 'total_amount': '10.8'}\n",
      "{'_id': ObjectId('5d9b4483f7125eb6c9481771'), 'VendorID': 2, 'tpep_pickup_datetime': datetime.datetime(2084, 11, 4, 12, 8, 33), 'tpep_dropoff_datetime': datetime.datetime(2084, 11, 4, 12, 22, 24), 'passenger_count': 1, 'trip_distance': 1.85, 'RatecodeID': 1, 'store_and_fwd_flag': 'N', 'PULocationID': 236, 'DOLocationID': 238, 'payment_type': 2, 'fare_amount': 10.0, 'extra': 0.0, 'mta_tax': 0.5, 'tip_amount': 0.0, 'tolls_amount': 0.0, 'improvement_surcharge': 0.3, 'total_amount': '10.8'}\n",
      "{'_id': ObjectId('5d9b4483f7125eb6c9481772'), 'VendorID': 2, 'tpep_pickup_datetime': datetime.datetime(2084, 11, 4, 11, 41, 35), 'tpep_dropoff_datetime': datetime.datetime(2084, 11, 4, 11, 59, 41), 'passenger_count': 1, 'trip_distance': 1.65, 'RatecodeID': 1, 'store_and_fwd_flag': 'N', 'PULocationID': 68, 'DOLocationID': 237, 'payment_type': 2, 'fare_amount': 12.5, 'extra': 0.0, 'mta_tax': 0.5, 'tip_amount': 0.0, 'tolls_amount': 0.0, 'improvement_surcharge': 0.3, 'total_amount': '13.3'}\n",
      "{'_id': ObjectId('5d9b4483f7125eb6c9481773'), 'VendorID': 2, 'tpep_pickup_datetime': datetime.datetime(2084, 11, 4, 11, 41, 35), 'tpep_dropoff_datetime': datetime.datetime(2084, 11, 4, 11, 59, 41), 'passenger_count': 1, 'trip_distance': 1.65, 'RatecodeID': 1, 'store_and_fwd_flag': 'N', 'PULocationID': 68, 'DOLocationID': 237, 'payment_type': 2, 'fare_amount': 12.5, 'extra': 0.0, 'mta_tax': 0.5, 'tip_amount': 0.0, 'tolls_amount': 0.0, 'improvement_surcharge': 0.3, 'total_amount': '13.3'}\n",
      "{'_id': ObjectId('5d9b4483f7125eb6c9481774'), 'VendorID': 2, 'tpep_pickup_datetime': datetime.datetime(2084, 11, 4, 11, 27, 28), 'tpep_dropoff_datetime': datetime.datetime(2084, 11, 4, 11, 39, 52), 'passenger_count': 1, 'trip_distance': 1.07, 'RatecodeID': 1, 'store_and_fwd_flag': 'N', 'PULocationID': 170, 'DOLocationID': 68, 'payment_type': 2, 'fare_amount': 9.0, 'extra': 0.0, 'mta_tax': 0.5, 'tip_amount': 0.0, 'tolls_amount': 0.0, 'improvement_surcharge': 0.3, 'total_amount': '9.8'}\n",
      "{'_id': ObjectId('5d9b4483f7125eb6c9481775'), 'VendorID': 2, 'tpep_pickup_datetime': datetime.datetime(2084, 11, 4, 11, 27, 28), 'tpep_dropoff_datetime': datetime.datetime(2084, 11, 4, 11, 39, 52), 'passenger_count': 1, 'trip_distance': 1.07, 'RatecodeID': 1, 'store_and_fwd_flag': 'N', 'PULocationID': 170, 'DOLocationID': 68, 'payment_type': 2, 'fare_amount': 9.0, 'extra': 0.0, 'mta_tax': 0.5, 'tip_amount': 0.0, 'tolls_amount': 0.0, 'improvement_surcharge': 0.3, 'total_amount': '9.8'}\n",
      "{'_id': ObjectId('5d9b4483f7125eb6c9481776'), 'VendorID': 2, 'tpep_pickup_datetime': datetime.datetime(2084, 11, 4, 11, 19, 6), 'tpep_dropoff_datetime': datetime.datetime(2084, 11, 4, 11, 26, 44), 'passenger_count': 1, 'trip_distance': 1.3, 'RatecodeID': 1, 'store_and_fwd_flag': 'N', 'PULocationID': 107, 'DOLocationID': 170, 'payment_type': 2, 'fare_amount': 7.5, 'extra': 0.0, 'mta_tax': 0.5, 'tip_amount': 0.0, 'tolls_amount': 0.0, 'improvement_surcharge': 0.3, 'total_amount': '8.3'}\n",
      "{'_id': ObjectId('5d9b4483f7125eb6c9481777'), 'VendorID': 2, 'tpep_pickup_datetime': datetime.datetime(2084, 11, 4, 11, 19, 6), 'tpep_dropoff_datetime': datetime.datetime(2084, 11, 4, 11, 26, 44), 'passenger_count': 1, 'trip_distance': 1.3, 'RatecodeID': 1, 'store_and_fwd_flag': 'N', 'PULocationID': 107, 'DOLocationID': 170, 'payment_type': 2, 'fare_amount': 7.5, 'extra': 0.0, 'mta_tax': 0.5, 'tip_amount': 0.0, 'tolls_amount': 0.0, 'improvement_surcharge': 0.3, 'total_amount': '8.3'}\n",
      "{'_id': ObjectId('5d9b4483f7125eb6c9481778'), 'VendorID': 2, 'tpep_pickup_datetime': datetime.datetime(2084, 11, 4, 11, 2, 59), 'tpep_dropoff_datetime': datetime.datetime(2084, 11, 4, 11, 15, 51), 'passenger_count': 1, 'trip_distance': 1.85, 'RatecodeID': 1, 'store_and_fwd_flag': 'N', 'PULocationID': 113, 'DOLocationID': 137, 'payment_type': 2, 'fare_amount': 10.0, 'extra': 0.0, 'mta_tax': 0.5, 'tip_amount': 0.0, 'tolls_amount': 0.0, 'improvement_surcharge': 0.3, 'total_amount': '10.8'}\n",
      "{'_id': ObjectId('5d9b4483f7125eb6c9481779'), 'VendorID': 2, 'tpep_pickup_datetime': datetime.datetime(2084, 11, 4, 11, 2, 59), 'tpep_dropoff_datetime': datetime.datetime(2084, 11, 4, 11, 15, 51), 'passenger_count': 1, 'trip_distance': 1.85, 'RatecodeID': 1, 'store_and_fwd_flag': 'N', 'PULocationID': 113, 'DOLocationID': 137, 'payment_type': 2, 'fare_amount': 10.0, 'extra': 0.0, 'mta_tax': 0.5, 'tip_amount': 0.0, 'tolls_amount': 0.0, 'improvement_surcharge': 0.3, 'total_amount': '10.8'}\n",
      "{'_id': ObjectId('5d9b4483f7125eb6c948177a'), 'VendorID': 2, 'tpep_pickup_datetime': datetime.datetime(2084, 11, 4, 10, 46, 5), 'tpep_dropoff_datetime': datetime.datetime(2084, 11, 4, 10, 50, 9), 'passenger_count': 1, 'trip_distance': 0.62, 'RatecodeID': 1, 'store_and_fwd_flag': 'N', 'PULocationID': 231, 'DOLocationID': 231, 'payment_type': 2, 'fare_amount': 4.5, 'extra': 0.0, 'mta_tax': 0.5, 'tip_amount': 0.0, 'tolls_amount': 0.0, 'improvement_surcharge': 0.3, 'total_amount': '5.3'}\n",
      "{'_id': ObjectId('5d9b4483f7125eb6c948177b'), 'VendorID': 2, 'tpep_pickup_datetime': datetime.datetime(2084, 11, 4, 10, 46, 5), 'tpep_dropoff_datetime': datetime.datetime(2084, 11, 4, 10, 50, 9), 'passenger_count': 1, 'trip_distance': 0.62, 'RatecodeID': 1, 'store_and_fwd_flag': 'N', 'PULocationID': 231, 'DOLocationID': 231, 'payment_type': 2, 'fare_amount': 4.5, 'extra': 0.0, 'mta_tax': 0.5, 'tip_amount': 0.0, 'tolls_amount': 0.0, 'improvement_surcharge': 0.3, 'total_amount': '5.3'}\n",
      "{'_id': ObjectId('5d9b4483f7125eb6c948177c'), 'VendorID': 2, 'tpep_pickup_datetime': datetime.datetime(2053, 7, 11, 13, 25, 33), 'tpep_dropoff_datetime': datetime.datetime(2053, 7, 11, 13, 25, 33), 'passenger_count': 1, 'trip_distance': 0.0, 'RatecodeID': 1, 'store_and_fwd_flag': 'N', 'PULocationID': 264, 'DOLocationID': 264, 'payment_type': 2, 'fare_amount': 0.0, 'extra': 0.0, 'mta_tax': 0.0, 'tip_amount': 0.0, 'tolls_amount': 0.0, 'improvement_surcharge': 0.0, 'total_amount': '0'}\n",
      "{'_id': ObjectId('5d9b4483f7125eb6c948177d'), 'VendorID': 2, 'tpep_pickup_datetime': datetime.datetime(2042, 12, 4, 8, 51, 43), 'tpep_dropoff_datetime': datetime.datetime(2042, 12, 4, 8, 54, 47), 'passenger_count': 1, 'trip_distance': 0.29, 'RatecodeID': 1, 'store_and_fwd_flag': 'N', 'PULocationID': 162, 'DOLocationID': 162, 'payment_type': 2, 'fare_amount': 4.0, 'extra': 0.0, 'mta_tax': 0.5, 'tip_amount': 0.0, 'tolls_amount': 0.0, 'improvement_surcharge': 0.3, 'total_amount': '4.8'}\n",
      "{'_id': ObjectId('5d9b4483f7125eb6c948177e'), 'VendorID': 2, 'tpep_pickup_datetime': datetime.datetime(2042, 12, 4, 8, 51, 43), 'tpep_dropoff_datetime': datetime.datetime(2042, 12, 4, 8, 54, 47), 'passenger_count': 1, 'trip_distance': 0.29, 'RatecodeID': 1, 'store_and_fwd_flag': 'N', 'PULocationID': 162, 'DOLocationID': 162, 'payment_type': 2, 'fare_amount': 4.0, 'extra': 0.0, 'mta_tax': 0.5, 'tip_amount': 0.0, 'tolls_amount': 0.0, 'improvement_surcharge': 0.3, 'total_amount': '4.8'}\n",
      "{'_id': ObjectId('5d9b4483f7125eb6c948177f'), 'VendorID': 2, 'tpep_pickup_datetime': datetime.datetime(2041, 6, 25, 20, 46, 37), 'tpep_dropoff_datetime': datetime.datetime(2041, 6, 25, 20, 52, 37), 'passenger_count': 1, 'trip_distance': 1.34, 'RatecodeID': 1, 'store_and_fwd_flag': 'N', 'PULocationID': 239, 'DOLocationID': 151, 'payment_type': 2, 'fare_amount': 7.0, 'extra': 0.5, 'mta_tax': 0.5, 'tip_amount': 0.0, 'tolls_amount': 0.0, 'improvement_surcharge': 0.3, 'total_amount': '8.3'}\n",
      "{'_id': ObjectId('5d9b4483f7125eb6c9481780'), 'VendorID': 2, 'tpep_pickup_datetime': datetime.datetime(2037, 11, 17, 21, 24, 28), 'tpep_dropoff_datetime': datetime.datetime(2037, 11, 17, 21, 46, 3), 'passenger_count': 1, 'trip_distance': 2.99, 'RatecodeID': 1, 'store_and_fwd_flag': 'N', 'PULocationID': 170, 'DOLocationID': 143, 'payment_type': 1, 'fare_amount': 15.0, 'extra': 0.5, 'mta_tax': 0.5, 'tip_amount': 1.7, 'tolls_amount': 0.0, 'improvement_surcharge': 0.3, 'total_amount': '18'}\n",
      "{'_id': ObjectId('5d9b4484f7125eb6c9481781'), 'VendorID': 2, 'tpep_pickup_datetime': datetime.datetime(2037, 11, 17, 21, 24, 28), 'tpep_dropoff_datetime': datetime.datetime(2037, 11, 17, 21, 46, 3), 'passenger_count': 1, 'trip_distance': 2.99, 'RatecodeID': 1, 'store_and_fwd_flag': 'N', 'PULocationID': 170, 'DOLocationID': 143, 'payment_type': 1, 'fare_amount': 15.0, 'extra': 0.5, 'mta_tax': 0.5, 'tip_amount': 1.7, 'tolls_amount': 0.0, 'improvement_surcharge': 0.3, 'total_amount': '18'}\n",
      "{'_id': ObjectId('5d9b4484f7125eb6c9481782'), 'VendorID': 2, 'tpep_pickup_datetime': datetime.datetime(2032, 2, 2, 0, 39, 23), 'tpep_dropoff_datetime': datetime.datetime(2032, 2, 2, 1, 11, 39), 'passenger_count': 4, 'trip_distance': 23.21, 'RatecodeID': 1, 'store_and_fwd_flag': 'N', 'PULocationID': 132, 'DOLocationID': 228, 'payment_type': 2, 'fare_amount': 62.0, 'extra': 0.5, 'mta_tax': 0.5, 'tip_amount': 0.0, 'tolls_amount': 0.0, 'improvement_surcharge': 0.3, 'total_amount': '63.3'}\n",
      "{'_id': ObjectId('5d9b4484f7125eb6c9481783'), 'VendorID': 2, 'tpep_pickup_datetime': datetime.datetime(2031, 2, 13, 17, 36, 35), 'tpep_dropoff_datetime': datetime.datetime(2031, 2, 13, 17, 45, 36), 'passenger_count': 1, 'trip_distance': 1.44, 'RatecodeID': 1, 'store_and_fwd_flag': 'N', 'PULocationID': 236, 'DOLocationID': 237, 'payment_type': 2, 'fare_amount': 8.0, 'extra': 1.0, 'mta_tax': 0.5, 'tip_amount': 0.0, 'tolls_amount': 0.0, 'improvement_surcharge': 0.3, 'total_amount': '9.8'}\n",
      "{'_id': ObjectId('5d9b4484f7125eb6c9481784'), 'VendorID': 2, 'tpep_pickup_datetime': datetime.datetime(2031, 2, 13, 17, 21, 28), 'tpep_dropoff_datetime': datetime.datetime(2031, 2, 13, 17, 35, 36), 'passenger_count': 1, 'trip_distance': 1.69, 'RatecodeID': 1, 'store_and_fwd_flag': 'N', 'PULocationID': 141, 'DOLocationID': 236, 'payment_type': 2, 'fare_amount': 8.0, 'extra': 1.0, 'mta_tax': 0.5, 'tip_amount': 0.0, 'tolls_amount': 0.0, 'improvement_surcharge': 0.3, 'total_amount': '9.8'}\n",
      "{'_id': ObjectId('5d9b4484f7125eb6c9481785'), 'VendorID': 2, 'tpep_pickup_datetime': datetime.datetime(2029, 5, 6, 20, 43, 14), 'tpep_dropoff_datetime': datetime.datetime(2029, 5, 6, 21, 3, 14), 'passenger_count': 4, 'trip_distance': 4.47, 'RatecodeID': 1, 'store_and_fwd_flag': 'N', 'PULocationID': 162, 'DOLocationID': 80, 'payment_type': 1, 'fare_amount': 17.5, 'extra': 0.5, 'mta_tax': 0.5, 'tip_amount': 4.91, 'tolls_amount': 5.76, 'improvement_surcharge': 0.3, 'total_amount': '29.47'}\n",
      "{'_id': ObjectId('5d9b4484f7125eb6c9481786'), 'VendorID': 2, 'tpep_pickup_datetime': datetime.datetime(2029, 5, 5, 23, 22, 18), 'tpep_dropoff_datetime': datetime.datetime(2029, 5, 6, 2, 2), 'passenger_count': 1, 'trip_distance': 11.51, 'RatecodeID': 1, 'store_and_fwd_flag': 'N', 'PULocationID': 148, 'DOLocationID': 244, 'payment_type': 1, 'fare_amount': 34.5, 'extra': 0.5, 'mta_tax': 0.5, 'tip_amount': 0.0, 'tolls_amount': 0.0, 'improvement_surcharge': 0.3, 'total_amount': '35.8'}\n",
      "{'_id': ObjectId('5d9b4484f7125eb6c9481787'), 'VendorID': 2, 'tpep_pickup_datetime': datetime.datetime(2026, 2, 13, 11, 53, 54), 'tpep_dropoff_datetime': datetime.datetime(2026, 2, 13, 11, 58, 2), 'passenger_count': 2, 'trip_distance': 0.85, 'RatecodeID': 1, 'store_and_fwd_flag': 'N', 'PULocationID': 161, 'DOLocationID': 43, 'payment_type': 2, 'fare_amount': 5.0, 'extra': 1.0, 'mta_tax': 0.5, 'tip_amount': 0.0, 'tolls_amount': 0.0, 'improvement_surcharge': 0.3, 'total_amount': '6.8'}\n",
      "{'_id': ObjectId('5d9b4484f7125eb6c9481788'), 'VendorID': 2, 'tpep_pickup_datetime': datetime.datetime(2026, 2, 13, 11, 6, 18), 'tpep_dropoff_datetime': datetime.datetime(2026, 2, 13, 18, 26, 9), 'passenger_count': 2, 'trip_distance': 3.14, 'RatecodeID': 1, 'store_and_fwd_flag': 'N', 'PULocationID': 163, 'DOLocationID': 246, 'payment_type': 2, 'fare_amount': 20.0, 'extra': 1.0, 'mta_tax': 0.5, 'tip_amount': 0.0, 'tolls_amount': 0.0, 'improvement_surcharge': 0.3, 'total_amount': '21.8'}\n",
      "{'_id': ObjectId('5d9b4484f7125eb6c9481789'), 'VendorID': 2, 'tpep_pickup_datetime': datetime.datetime(2021, 9, 13, 12, 19, 52), 'tpep_dropoff_datetime': datetime.datetime(2021, 9, 13, 12, 22, 7), 'passenger_count': 1, 'trip_distance': 0.0, 'RatecodeID': 1, 'store_and_fwd_flag': 'N', 'PULocationID': 193, 'DOLocationID': 193, 'payment_type': 2, 'fare_amount': 0.0, 'extra': 0.0, 'mta_tax': 0.0, 'tip_amount': 0.0, 'tolls_amount': 0.0, 'improvement_surcharge': 0.0, 'total_amount': '0'}\n",
      "{'_id': ObjectId('5d9b4484f7125eb6c948178a'), 'VendorID': 2, 'tpep_pickup_datetime': datetime.datetime(2020, 12, 10, 20, 34, 26), 'tpep_dropoff_datetime': datetime.datetime(2020, 12, 10, 20, 54, 46), 'passenger_count': 1, 'trip_distance': 4.62, 'RatecodeID': 1, 'store_and_fwd_flag': 'N', 'PULocationID': 50, 'DOLocationID': 231, 'payment_type': 2, 'fare_amount': 17.5, 'extra': 0.5, 'mta_tax': 0.5, 'tip_amount': 0.0, 'tolls_amount': 0.0, 'improvement_surcharge': 0.3, 'total_amount': '18.8'}\n",
      "{'_id': ObjectId('5d9b4484f7125eb6c948178b'), 'VendorID': 2, 'tpep_pickup_datetime': datetime.datetime(2020, 12, 10, 20, 23, 43), 'tpep_dropoff_datetime': datetime.datetime(2020, 12, 10, 20, 32, 35), 'passenger_count': 1, 'trip_distance': 2.44, 'RatecodeID': 1, 'store_and_fwd_flag': 'N', 'PULocationID': 90, 'DOLocationID': 50, 'payment_type': 1, 'fare_amount': 9.0, 'extra': 0.5, 'mta_tax': 0.5, 'tip_amount': 2.06, 'tolls_amount': 0.0, 'improvement_surcharge': 0.3, 'total_amount': '12.36'}\n",
      "{'_id': ObjectId('5d9b4484f7125eb6c948178c'), 'VendorID': 2, 'tpep_pickup_datetime': datetime.datetime(2020, 8, 1, 0, 20, 58), 'tpep_dropoff_datetime': datetime.datetime(2020, 8, 1, 0, 47, 9), 'passenger_count': 1, 'trip_distance': 16.71, 'RatecodeID': 1, 'store_and_fwd_flag': 'N', 'PULocationID': 143, 'DOLocationID': 138, 'payment_type': 1, 'fare_amount': 45.5, 'extra': 0.0, 'mta_tax': 0.5, 'tip_amount': 10.41, 'tolls_amount': 5.76, 'improvement_surcharge': 0.3, 'total_amount': '62.47'}\n",
      "{'_id': ObjectId('5d9b4484f7125eb6c948178d'), 'VendorID': 2, 'tpep_pickup_datetime': datetime.datetime(2020, 8, 1, 0, 7, 4), 'tpep_dropoff_datetime': datetime.datetime(2020, 8, 1, 0, 20, 28), 'passenger_count': 1, 'trip_distance': 2.3, 'RatecodeID': 1, 'store_and_fwd_flag': 'N', 'PULocationID': 238, 'DOLocationID': 143, 'payment_type': 2, 'fare_amount': 11.0, 'extra': 0.0, 'mta_tax': 0.5, 'tip_amount': 0.0, 'tolls_amount': 0.0, 'improvement_surcharge': 0.3, 'total_amount': '11.8'}\n",
      "{'_id': ObjectId('5d9b4484f7125eb6c948178e'), 'VendorID': 2, 'tpep_pickup_datetime': datetime.datetime(2020, 3, 5, 18, 44, 16), 'tpep_dropoff_datetime': datetime.datetime(2020, 3, 6, 15, 14, 32), 'passenger_count': 1, 'trip_distance': 2.39, 'RatecodeID': 1, 'store_and_fwd_flag': 'N', 'PULocationID': 125, 'DOLocationID': 161, 'payment_type': 2, 'fare_amount': 11.0, 'extra': 0.0, 'mta_tax': 0.5, 'tip_amount': 0.0, 'tolls_amount': 0.0, 'improvement_surcharge': 0.3, 'total_amount': '11.8'}\n",
      "{'_id': ObjectId('5d9b4484f7125eb6c948178f'), 'VendorID': 2, 'tpep_pickup_datetime': datetime.datetime(2020, 3, 5, 18, 44, 16), 'tpep_dropoff_datetime': datetime.datetime(2020, 3, 6, 15, 14, 32), 'passenger_count': 1, 'trip_distance': 2.39, 'RatecodeID': 1, 'store_and_fwd_flag': 'N', 'PULocationID': 125, 'DOLocationID': 161, 'payment_type': 2, 'fare_amount': 11.0, 'extra': 0.0, 'mta_tax': 0.5, 'tip_amount': 0.0, 'tolls_amount': 0.0, 'improvement_surcharge': 0.3, 'total_amount': '11.8'}\n",
      "{'_id': ObjectId('5d9b4484f7125eb6c9481790'), 'VendorID': 2, 'tpep_pickup_datetime': datetime.datetime(2020, 3, 5, 18, 33, 57), 'tpep_dropoff_datetime': datetime.datetime(2020, 3, 5, 18, 40, 39), 'passenger_count': 1, 'trip_distance': 1.04, 'RatecodeID': 1, 'store_and_fwd_flag': 'N', 'PULocationID': 231, 'DOLocationID': 125, 'payment_type': 1, 'fare_amount': 6.5, 'extra': 0.0, 'mta_tax': 0.5, 'tip_amount': 1.46, 'tolls_amount': 0.0, 'improvement_surcharge': 0.3, 'total_amount': '8.76'}\n",
      "{'_id': ObjectId('5d9b4484f7125eb6c9481791'), 'VendorID': 2, 'tpep_pickup_datetime': datetime.datetime(2020, 3, 5, 18, 33, 57), 'tpep_dropoff_datetime': datetime.datetime(2020, 3, 5, 18, 40, 39), 'passenger_count': 1, 'trip_distance': 1.04, 'RatecodeID': 1, 'store_and_fwd_flag': 'N', 'PULocationID': 231, 'DOLocationID': 125, 'payment_type': 1, 'fare_amount': 6.5, 'extra': 0.0, 'mta_tax': 0.5, 'tip_amount': 1.46, 'tolls_amount': 0.0, 'improvement_surcharge': 0.3, 'total_amount': '8.76'}\n",
      "{'_id': ObjectId('5d9b4484f7125eb6c9481792'), 'VendorID': 2, 'tpep_pickup_datetime': datetime.datetime(2020, 3, 5, 18, 13, 12), 'tpep_dropoff_datetime': datetime.datetime(2020, 3, 5, 18, 21, 27), 'passenger_count': 1, 'trip_distance': 1.26, 'RatecodeID': 1, 'store_and_fwd_flag': 'N', 'PULocationID': 79, 'DOLocationID': 45, 'payment_type': 2, 'fare_amount': 7.5, 'extra': 0.0, 'mta_tax': 0.5, 'tip_amount': 0.0, 'tolls_amount': 0.0, 'improvement_surcharge': 0.3, 'total_amount': '8.3'}\n",
      "{'_id': ObjectId('5d9b4484f7125eb6c9481793'), 'VendorID': 2, 'tpep_pickup_datetime': datetime.datetime(2020, 3, 5, 18, 13, 12), 'tpep_dropoff_datetime': datetime.datetime(2020, 3, 5, 18, 21, 27), 'passenger_count': 1, 'trip_distance': 1.26, 'RatecodeID': 1, 'store_and_fwd_flag': 'N', 'PULocationID': 79, 'DOLocationID': 45, 'payment_type': 2, 'fare_amount': 7.5, 'extra': 0.0, 'mta_tax': 0.5, 'tip_amount': 0.0, 'tolls_amount': 0.0, 'improvement_surcharge': 0.3, 'total_amount': '8.3'}\n",
      "{'_id': ObjectId('5d9b4484f7125eb6c9481794'), 'VendorID': 2, 'tpep_pickup_datetime': datetime.datetime(2020, 3, 5, 18, 6, 6), 'tpep_dropoff_datetime': datetime.datetime(2020, 3, 5, 18, 11, 37), 'passenger_count': 1, 'trip_distance': 0.9, 'RatecodeID': 1, 'store_and_fwd_flag': 'N', 'PULocationID': 234, 'DOLocationID': 79, 'payment_type': 1, 'fare_amount': 5.5, 'extra': 0.0, 'mta_tax': 0.5, 'tip_amount': 1.26, 'tolls_amount': 0.0, 'improvement_surcharge': 0.3, 'total_amount': '7.56'}\n",
      "{'_id': ObjectId('5d9b4484f7125eb6c9481795'), 'VendorID': 2, 'tpep_pickup_datetime': datetime.datetime(2020, 3, 5, 18, 6, 6), 'tpep_dropoff_datetime': datetime.datetime(2020, 3, 5, 18, 11, 37), 'passenger_count': 1, 'trip_distance': 0.9, 'RatecodeID': 1, 'store_and_fwd_flag': 'N', 'PULocationID': 234, 'DOLocationID': 79, 'payment_type': 1, 'fare_amount': 5.5, 'extra': 0.0, 'mta_tax': 0.5, 'tip_amount': 1.26, 'tolls_amount': 0.0, 'improvement_surcharge': 0.3, 'total_amount': '7.56'}\n",
      "{'_id': ObjectId('5d9b4484f7125eb6c9481796'), 'VendorID': 2, 'tpep_pickup_datetime': datetime.datetime(2020, 3, 5, 18, 1, 50), 'tpep_dropoff_datetime': datetime.datetime(2020, 3, 5, 18, 5, 26), 'passenger_count': 1, 'trip_distance': 0.49, 'RatecodeID': 1, 'store_and_fwd_flag': 'N', 'PULocationID': 90, 'DOLocationID': 234, 'payment_type': 2, 'fare_amount': 4.5, 'extra': 0.0, 'mta_tax': 0.5, 'tip_amount': 0.0, 'tolls_amount': 0.0, 'improvement_surcharge': 0.3, 'total_amount': '5.3'}\n",
      "{'_id': ObjectId('5d9b4484f7125eb6c9481797'), 'VendorID': 2, 'tpep_pickup_datetime': datetime.datetime(2020, 3, 5, 18, 1, 50), 'tpep_dropoff_datetime': datetime.datetime(2020, 3, 5, 18, 5, 26), 'passenger_count': 1, 'trip_distance': 0.49, 'RatecodeID': 1, 'store_and_fwd_flag': 'N', 'PULocationID': 90, 'DOLocationID': 234, 'payment_type': 2, 'fare_amount': 4.5, 'extra': 0.0, 'mta_tax': 0.5, 'tip_amount': 0.0, 'tolls_amount': 0.0, 'improvement_surcharge': 0.3, 'total_amount': '5.3'}\n",
      "{'_id': ObjectId('5d9b4484f7125eb6c9481798'), 'VendorID': 2, 'tpep_pickup_datetime': datetime.datetime(2020, 3, 5, 17, 34, 30), 'tpep_dropoff_datetime': datetime.datetime(2020, 3, 5, 17, 40, 27), 'passenger_count': 1, 'trip_distance': 1.13, 'RatecodeID': 1, 'store_and_fwd_flag': 'N', 'PULocationID': 238, 'DOLocationID': 143, 'payment_type': 1, 'fare_amount': 6.5, 'extra': 0.0, 'mta_tax': 0.5, 'tip_amount': 1.46, 'tolls_amount': 0.0, 'improvement_surcharge': 0.3, 'total_amount': '8.76'}\n",
      "{'_id': ObjectId('5d9b4484f7125eb6c9481799'), 'VendorID': 2, 'tpep_pickup_datetime': datetime.datetime(2020, 3, 5, 17, 34, 30), 'tpep_dropoff_datetime': datetime.datetime(2020, 3, 5, 17, 40, 27), 'passenger_count': 1, 'trip_distance': 1.13, 'RatecodeID': 1, 'store_and_fwd_flag': 'N', 'PULocationID': 238, 'DOLocationID': 143, 'payment_type': 1, 'fare_amount': 6.5, 'extra': 0.0, 'mta_tax': 0.5, 'tip_amount': 1.46, 'tolls_amount': 0.0, 'improvement_surcharge': 0.3, 'total_amount': '8.76'}\n",
      "{'_id': ObjectId('5d9b4484f7125eb6c948179a'), 'VendorID': 2, 'tpep_pickup_datetime': datetime.datetime(2019, 11, 21, 4, 51, 9), 'tpep_dropoff_datetime': datetime.datetime(2019, 11, 21, 4, 54, 11), 'passenger_count': 1, 'trip_distance': 0.0, 'RatecodeID': 5, 'store_and_fwd_flag': 'N', 'PULocationID': 264, 'DOLocationID': 264, 'payment_type': 2, 'fare_amount': 96.0, 'extra': 0.0, 'mta_tax': 0.0, 'tip_amount': 0.0, 'tolls_amount': 0.0, 'improvement_surcharge': 0.3, 'total_amount': '96.3'}\n",
      "{'_id': ObjectId('5d9b4484f7125eb6c948179b'), 'VendorID': 2, 'tpep_pickup_datetime': datetime.datetime(2019, 11, 21, 3, 48, 17), 'tpep_dropoff_datetime': datetime.datetime(2019, 11, 21, 3, 55, 7), 'passenger_count': 5, 'trip_distance': 1.6, 'RatecodeID': 1, 'store_and_fwd_flag': 'N', 'PULocationID': 264, 'DOLocationID': 264, 'payment_type': 1, 'fare_amount': 7.5, 'extra': 0.5, 'mta_tax': 0.5, 'tip_amount': 1.76, 'tolls_amount': 0.0, 'improvement_surcharge': 0.3, 'total_amount': '10.56'}\n",
      "{'_id': ObjectId('5d9b4484f7125eb6c948179c'), 'VendorID': 2, 'tpep_pickup_datetime': datetime.datetime(2019, 11, 21, 3, 32, 56), 'tpep_dropoff_datetime': datetime.datetime(2019, 11, 21, 3, 36, 2), 'passenger_count': 5, 'trip_distance': 0.78, 'RatecodeID': 1, 'store_and_fwd_flag': 'N', 'PULocationID': 264, 'DOLocationID': 264, 'payment_type': 1, 'fare_amount': 4.5, 'extra': 0.5, 'mta_tax': 0.5, 'tip_amount': 0.0, 'tolls_amount': 0.0, 'improvement_surcharge': 0.3, 'total_amount': '5.8'}\n"
     ]
    }
   ],
   "source": [
    "result = tripCollect.find({'VendorID': 2})\n",
    "print(type(result))\n",
    "for item in result:\n",
    "    print(item)"
   ]
  },
  {
   "cell_type": "code",
   "execution_count": null,
   "metadata": {},
   "outputs": [],
   "source": []
  }
 ],
 "metadata": {
  "kernelspec": {
   "display_name": "Python 3",
   "language": "python",
   "name": "python3"
  },
  "language_info": {
   "codemirror_mode": {
    "name": "ipython",
    "version": 3
   },
   "file_extension": ".py",
   "mimetype": "text/x-python",
   "name": "python",
   "nbconvert_exporter": "python",
   "pygments_lexer": "ipython3",
   "version": "3.7.0"
  }
 },
 "nbformat": 4,
 "nbformat_minor": 2
}
